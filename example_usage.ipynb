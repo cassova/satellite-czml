{
 "cells": [
  {
   "cell_type": "code",
   "execution_count": 10,
   "metadata": {},
   "outputs": [
    {
     "data": {
      "text/plain": [
       "[['ISS (ZARYA)',\n",
       "  '1 25544U 98067A   21015.26182017  .00001768  00000-0  39819-4 0  9992',\n",
       "  '2 25544  51.6458  19.1177 0000366 230.0121 220.3312 15.49295652264891'],\n",
       " ['KESTREL EYE IIM (KE2M)',\n",
       "  '1 42982U 98067NE  21015.09437381  .00025609  00000-0  14039-3 0  9991',\n",
       "  '2 42982  51.6337 274.9726 0003845 170.1291 189.9786 15.79621937184405'],\n",
       " ['DELLINGR (RBLE)',\n",
       "  '1 43021U 98067NJ  21014.94819626  .00032939  00000-0  16287-3 0  9996',\n",
       "  '2 43021  51.6309 272.5446 0003544 137.0672 223.0607 15.81734240180192'],\n",
       " ['TEMPEST-D',\n",
       "  '1 43547U 98067NV  21014.92878891  .00010877  00000-0  87306-4 0  9994',\n",
       "  '2 43547  51.6354 319.8944 0006306 120.9439 239.2180 15.71597535142640']]"
      ]
     },
     "execution_count": 10,
     "metadata": {},
     "output_type": "execute_result"
    }
   ],
   "source": [
    "import urllib\n",
    "\n",
    "url = 'https://celestrak.com/NORAD/elements/stations.txt'\n",
    "tles = [l.decode(\"utf-8\").strip() for l in urllib.request.urlopen(url).readlines()]\n",
    "tle_list = [[tles[i],tles[i+1],tles[i+2]] for i,_ in enumerate(tles) if i%3==0]\n",
    "tle_list[:4]"
   ]
  },
  {
   "cell_type": "markdown",
   "metadata": {},
   "source": [
    "## Simple Example"
   ]
  },
  {
   "cell_type": "code",
   "execution_count": 11,
   "metadata": {},
   "outputs": [
    {
     "data": {
      "text/plain": [
       "['ISS (ZARYA)',\n",
       " '1 25544U 98067A   21015.26182017  .00001768  00000-0  39819-4 0  9992',\n",
       " '2 25544  51.6458  19.1177 0000366 230.0121 220.3312 15.49295652264891']"
      ]
     },
     "execution_count": 11,
     "metadata": {},
     "output_type": "execute_result"
    }
   ],
   "source": [
    "iss_tle = tle_list[0]\n",
    "iss_tle"
   ]
  },
  {
   "cell_type": "code",
   "execution_count": 12,
   "metadata": {},
   "outputs": [],
   "source": [
    "from satellite_czml import satellite_czml\n",
    "\n",
    "iss_czml = satellite_czml([iss_tle]).get_czml()"
   ]
  },
  {
   "cell_type": "markdown",
   "metadata": {},
   "source": [
    "## Multiple Satellite Example"
   ]
  },
  {
   "cell_type": "code",
   "execution_count": 13,
   "metadata": {},
   "outputs": [],
   "source": [
    "all_czml = satellite_czml(tle_list).get_czml()"
   ]
  },
  {
   "cell_type": "markdown",
   "metadata": {},
   "source": [
    "## Specifying Arguments"
   ]
  },
  {
   "cell_type": "code",
   "execution_count": 14,
   "metadata": {},
   "outputs": [],
   "source": [
    "from datetime import datetime, timedelta\n",
    "import random\n",
    "\n",
    "start_time = datetime.now() - timedelta(days=1)\n",
    "end_time = datetime.now()\n",
    "name_list = [t[0] for t in tle_list]\n",
    "description_list = ['Station: ' + t[0] for t in tle_list]\n",
    "color_list = [[random.randrange(256) for x in range(3)] for x in range(len(tle_list))]\n",
    "size_list = [7] * len(tle_list)\n",
    "\n",
    "czml_obj = satellite_czml(tle_list=tle_list, name_list=name_list, description_list=description_list,\n",
    "                          color_list=color_list, speed_multiplier=1, use_default_image=False,\n",
    "                          marker_scale_list=size_list, show_label=False, show_path=False,\n",
    "                          ignore_bad_tles=True)\n",
    "all_czml_p = czml_obj.get_czml()"
   ]
  },
  {
   "cell_type": "markdown",
   "metadata": {},
   "source": [
    "## Create One-by-One"
   ]
  },
  {
   "cell_type": "code",
   "execution_count": 25,
   "metadata": {},
   "outputs": [
    {
     "data": {
      "text/plain": [
       "datetime.datetime(2020, 1, 1, 0, 0)"
      ]
     },
     "execution_count": 25,
     "metadata": {},
     "output_type": "execute_result"
    }
   ],
   "source": []
  },
  {
   "cell_type": "code",
   "execution_count": 27,
   "metadata": {},
   "outputs": [],
   "source": [
    "from satellite_czml import satellite\n",
    "\n",
    "all_sats=[]\n",
    "for tle in tle_list:\n",
    "    sat = satellite(tle,\n",
    "                    description='Station: ' + tle[0],\n",
    "                    color = [random.randrange(256) for x in range(3)],\n",
    "                    marker_scale=12,\n",
    "                    use_default_image=False,\n",
    "                    start_time=datetime.strptime('2020-01-01 00:00:00','%Y-%m-%d %H:%M:%S'),\n",
    "                    end_time=datetime.strptime('2020-01-01 01:00:00','%Y-%m-%d %H:%M:%S')\n",
    "                   )\n",
    "    all_sats.append(sat)\n",
    "    \n",
    "\n",
    "# czml_obj = satellite_czml([iss_tle])"
   ]
  },
  {
   "cell_type": "markdown",
   "metadata": {},
   "source": [
    "## Modifying an Object"
   ]
  },
  {
   "cell_type": "code",
   "execution_count": null,
   "metadata": {},
   "outputs": [],
   "source": []
  }
 ],
 "metadata": {
  "kernelspec": {
   "display_name": "Python 3",
   "language": "python",
   "name": "python3"
  },
  "language_info": {
   "codemirror_mode": {
    "name": "ipython",
    "version": 3
   },
   "file_extension": ".py",
   "mimetype": "text/x-python",
   "name": "python",
   "nbconvert_exporter": "python",
   "pygments_lexer": "ipython3",
   "version": "3.8.5"
  }
 },
 "nbformat": 4,
 "nbformat_minor": 4
}
